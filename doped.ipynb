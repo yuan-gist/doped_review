{
 "cells": [
  {
   "cell_type": "code",
   "execution_count": 13,
   "id": "1e2d7fe5-56d3-4026-a161-318aa9eec131",
   "metadata": {},
   "outputs": [],
   "source": [
    "from doped.analysis import DefectsParser\n",
    "%matplotlib inline"
   ]
  },
  {
   "cell_type": "code",
   "execution_count": 14,
   "id": "e31db799-8f70-47a8-8763-09d83a1b4bda",
   "metadata": {},
   "outputs": [
    {
     "name": "stderr",
     "output_type": "stream",
     "text": [
      "Parsing v_Ca_-1/vasp_gam: 100%|█████████████████████████████████████████████████████████████████████████████████████████| 3/3 [01:11<00:00, 23.74s/it]\n",
      "analysis.py:917: UserWarning: Defects: ['v_Ca_-2', 'v_Ca_-1'] each encountered the same warning:\n",
      "`LOCPOT` or `OUTCAR` files are missing from the defect or bulk folder. These are needed to perform the finite-size charge corrections. Charge corrections will not be applied for this defect.\n",
      "(using bulk path bulk and vasp_gam defect subfolders)\n"
     ]
    }
   ],
   "source": [
    "dielectric = 11.95  # dielectric constant (this can be a single number (isotropic), or a 3x1 array or 3x3 matrix (anisotropic))\n",
    "dp = DefectsParser(output_path='doped', \\\n",
    "                   dielectric=dielectric, \\\n",
    "                   bulk_path='bulk')  "
   ]
  },
  {
   "cell_type": "code",
   "execution_count": 15,
   "id": "f8cfc98a-9ced-4936-97ef-e27414ce09e0",
   "metadata": {},
   "outputs": [],
   "source": [
    "# fake chemical potentials\n",
    "\n",
    "chempots = {'limits': {'Ca-CaO': {'Ca': -1.01586484, 'O': -5.7220097228125}}}"
   ]
  },
  {
   "cell_type": "code",
   "execution_count": 16,
   "id": "3cec2ab7-ecc5-469e-bd70-6bd4b99cfb60",
   "metadata": {},
   "outputs": [],
   "source": [
    "thermo = dp.get_defect_thermodynamics(chempots=chempots)"
   ]
  },
  {
   "cell_type": "code",
   "execution_count": 17,
   "id": "877da78d-dcce-4e85-88c2-387b2e2f61ac",
   "metadata": {},
   "outputs": [
    {
     "data": {
      "text/html": [
       "<div>\n",
       "<style scoped>\n",
       "    .dataframe tbody tr th:only-of-type {\n",
       "        vertical-align: middle;\n",
       "    }\n",
       "\n",
       "    .dataframe tbody tr th {\n",
       "        vertical-align: top;\n",
       "    }\n",
       "\n",
       "    .dataframe thead th {\n",
       "        text-align: right;\n",
       "    }\n",
       "</style>\n",
       "<table border=\"1\" class=\"dataframe\">\n",
       "  <thead>\n",
       "    <tr style=\"text-align: right;\">\n",
       "      <th></th>\n",
       "      <th>Defect</th>\n",
       "      <th>q</th>\n",
       "      <th>Site_Symm</th>\n",
       "      <th>Defect_Symm</th>\n",
       "      <th>g_Orient</th>\n",
       "      <th>g_Spin</th>\n",
       "      <th>g_Total</th>\n",
       "      <th>Mult</th>\n",
       "    </tr>\n",
       "  </thead>\n",
       "  <tbody>\n",
       "    <tr>\n",
       "      <th>0</th>\n",
       "      <td>v_Ca</td>\n",
       "      <td>0</td>\n",
       "      <td>Oh</td>\n",
       "      <td>Oh</td>\n",
       "      <td>1.0</td>\n",
       "      <td>1</td>\n",
       "      <td>1.0</td>\n",
       "      <td>1.0</td>\n",
       "    </tr>\n",
       "    <tr>\n",
       "      <th>1</th>\n",
       "      <td>v_Ca</td>\n",
       "      <td>-1</td>\n",
       "      <td>Oh</td>\n",
       "      <td>Oh</td>\n",
       "      <td>1.0</td>\n",
       "      <td>2</td>\n",
       "      <td>2.0</td>\n",
       "      <td>1.0</td>\n",
       "    </tr>\n",
       "    <tr>\n",
       "      <th>2</th>\n",
       "      <td>v_Ca</td>\n",
       "      <td>-2</td>\n",
       "      <td>Oh</td>\n",
       "      <td>Oh</td>\n",
       "      <td>1.0</td>\n",
       "      <td>1</td>\n",
       "      <td>1.0</td>\n",
       "      <td>1.0</td>\n",
       "    </tr>\n",
       "  </tbody>\n",
       "</table>\n",
       "</div>"
      ],
      "text/plain": [
       "  Defect   q Site_Symm Defect_Symm  g_Orient  g_Spin  g_Total  Mult\n",
       "0   v_Ca   0        Oh          Oh       1.0       1      1.0   1.0\n",
       "1   v_Ca  -1        Oh          Oh       1.0       2      2.0   1.0\n",
       "2   v_Ca  -2        Oh          Oh       1.0       1      1.0   1.0"
      ]
     },
     "execution_count": 17,
     "metadata": {},
     "output_type": "execute_result"
    }
   ],
   "source": [
    "thermo.get_symmetries_and_degeneracies()"
   ]
  }
 ],
 "metadata": {
  "kernelspec": {
   "display_name": "Python 3 (ipykernel)",
   "language": "python",
   "name": "python3"
  },
  "language_info": {
   "codemirror_mode": {
    "name": "ipython",
    "version": 3
   },
   "file_extension": ".py",
   "mimetype": "text/x-python",
   "name": "python",
   "nbconvert_exporter": "python",
   "pygments_lexer": "ipython3",
   "version": "3.10.0"
  }
 },
 "nbformat": 4,
 "nbformat_minor": 5
}
